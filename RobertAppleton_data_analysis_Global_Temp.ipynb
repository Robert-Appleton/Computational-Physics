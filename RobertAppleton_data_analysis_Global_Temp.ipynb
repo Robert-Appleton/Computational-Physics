{
 "cells": [
  {
   "cell_type": "markdown",
   "metadata": {},
   "source": [
    "### Import Packages"
   ]
  },
  {
   "cell_type": "code",
   "execution_count": 130,
   "metadata": {},
   "outputs": [],
   "source": [
    "import numpy as np\n",
    "import matplotlib.pyplot as plt\n",
    "%matplotlib inline"
   ]
  },
  {
   "cell_type": "markdown",
   "metadata": {},
   "source": [
    "### Import Data File\n",
    "\n",
    "File was found at (). I downloaded it and saved it to the same directory as this notebook. Then I can use this simple numpy command to upload the file and save it as a numpy array."
   ]
  },
  {
   "cell_type": "code",
   "execution_count": 131,
   "metadata": {},
   "outputs": [],
   "source": [
    "data = np.loadtxt('tempdata.txt')"
   ]
  },
  {
   "cell_type": "code",
   "execution_count": 132,
   "metadata": {},
   "outputs": [
    {
     "data": {
      "text/plain": [
       "numpy.ndarray"
      ]
     },
     "execution_count": 132,
     "metadata": {},
     "output_type": "execute_result"
    }
   ],
   "source": [
    "type(data)"
   ]
  },
  {
   "cell_type": "code",
   "execution_count": 133,
   "metadata": {},
   "outputs": [
    {
     "data": {
      "text/plain": [
       "(139, 3)"
      ]
     },
     "execution_count": 133,
     "metadata": {},
     "output_type": "execute_result"
    }
   ],
   "source": [
    "data.shape"
   ]
  },
  {
   "cell_type": "code",
   "execution_count": 134,
   "metadata": {},
   "outputs": [
    {
     "data": {
      "text/plain": [
       "array([[ 1.880e+03, -1.900e-01, -1.200e-01],\n",
       "       [ 1.881e+03, -1.100e-01, -1.500e-01],\n",
       "       [ 1.882e+03, -1.200e-01, -1.900e-01],\n",
       "       [ 1.883e+03, -2.000e-01, -2.200e-01],\n",
       "       [ 1.884e+03, -3.000e-01, -2.500e-01],\n",
       "       [ 1.885e+03, -3.200e-01, -2.700e-01],\n",
       "       [ 1.886e+03, -3.300e-01, -2.800e-01],\n",
       "       [ 1.887e+03, -3.600e-01, -2.800e-01],\n",
       "       [ 1.888e+03, -1.800e-01, -2.700e-01],\n",
       "       [ 1.889e+03, -1.100e-01, -2.700e-01],\n",
       "       [ 1.890e+03, -3.700e-01, -2.600e-01],\n",
       "       [ 1.891e+03, -2.400e-01, -2.700e-01],\n",
       "       [ 1.892e+03, -2.700e-01, -2.700e-01],\n",
       "       [ 1.893e+03, -3.200e-01, -2.700e-01],\n",
       "       [ 1.894e+03, -3.200e-01, -2.500e-01],\n",
       "       [ 1.895e+03, -2.300e-01, -2.300e-01],\n",
       "       [ 1.896e+03, -1.200e-01, -2.100e-01],\n",
       "       [ 1.897e+03, -1.200e-01, -1.900e-01],\n",
       "       [ 1.898e+03, -2.800e-01, -1.800e-01],\n",
       "       [ 1.899e+03, -1.900e-01, -1.800e-01],\n",
       "       [ 1.900e+03, -9.000e-02, -2.100e-01],\n",
       "       [ 1.901e+03, -1.600e-01, -2.500e-01],\n",
       "       [ 1.902e+03, -3.000e-01, -2.700e-01],\n",
       "       [ 1.903e+03, -3.900e-01, -3.000e-01],\n",
       "       [ 1.904e+03, -4.900e-01, -3.300e-01],\n",
       "       [ 1.905e+03, -2.800e-01, -3.500e-01],\n",
       "       [ 1.906e+03, -2.300e-01, -3.700e-01],\n",
       "       [ 1.907e+03, -4.000e-01, -3.800e-01],\n",
       "       [ 1.908e+03, -4.400e-01, -4.000e-01],\n",
       "       [ 1.909e+03, -4.800e-01, -4.100e-01],\n",
       "       [ 1.910e+03, -4.300e-01, -4.100e-01],\n",
       "       [ 1.911e+03, -4.300e-01, -3.900e-01],\n",
       "       [ 1.912e+03, -3.600e-01, -3.500e-01],\n",
       "       [ 1.913e+03, -3.600e-01, -3.200e-01],\n",
       "       [ 1.914e+03, -1.600e-01, -3.000e-01],\n",
       "       [ 1.915e+03, -1.200e-01, -2.900e-01],\n",
       "       [ 1.916e+03, -3.300e-01, -2.800e-01],\n",
       "       [ 1.917e+03, -4.400e-01, -2.800e-01],\n",
       "       [ 1.918e+03, -2.800e-01, -2.800e-01],\n",
       "       [ 1.919e+03, -2.700e-01, -2.800e-01],\n",
       "       [ 1.920e+03, -2.600e-01, -2.700e-01],\n",
       "       [ 1.921e+03, -1.800e-01, -2.500e-01],\n",
       "       [ 1.922e+03, -2.700e-01, -2.400e-01],\n",
       "       [ 1.923e+03, -2.500e-01, -2.300e-01],\n",
       "       [ 1.924e+03, -2.500e-01, -2.200e-01],\n",
       "       [ 1.925e+03, -2.100e-01, -2.100e-01],\n",
       "       [ 1.926e+03, -9.000e-02, -2.100e-01],\n",
       "       [ 1.927e+03, -2.100e-01, -2.000e-01],\n",
       "       [ 1.928e+03, -1.900e-01, -1.900e-01],\n",
       "       [ 1.929e+03, -3.500e-01, -1.900e-01],\n",
       "       [ 1.930e+03, -1.500e-01, -1.900e-01],\n",
       "       [ 1.931e+03, -1.000e-01, -1.900e-01],\n",
       "       [ 1.932e+03, -1.700e-01, -1.800e-01],\n",
       "       [ 1.933e+03, -3.000e-01, -1.800e-01],\n",
       "       [ 1.934e+03, -1.400e-01, -1.700e-01],\n",
       "       [ 1.935e+03, -2.100e-01, -1.500e-01],\n",
       "       [ 1.936e+03, -1.600e-01, -1.200e-01],\n",
       "       [ 1.937e+03, -4.000e-02, -8.000e-02],\n",
       "       [ 1.938e+03, -4.000e-02, -3.000e-02],\n",
       "       [ 1.939e+03, -3.000e-02,  1.000e-02],\n",
       "       [ 1.940e+03,  1.100e-01,  5.000e-02],\n",
       "       [ 1.941e+03,  1.800e-01,  7.000e-02],\n",
       "       [ 1.942e+03,  5.000e-02,  9.000e-02],\n",
       "       [ 1.943e+03,  7.000e-02,  9.000e-02],\n",
       "       [ 1.944e+03,  2.000e-01,  6.000e-02],\n",
       "       [ 1.945e+03,  8.000e-02,  3.000e-02],\n",
       "       [ 1.946e+03, -7.000e-02, -0.000e+00],\n",
       "       [ 1.947e+03, -4.000e-02, -4.000e-02],\n",
       "       [ 1.948e+03, -1.100e-01, -7.000e-02],\n",
       "       [ 1.949e+03, -1.100e-01, -9.000e-02],\n",
       "       [ 1.950e+03, -1.800e-01, -8.000e-02],\n",
       "       [ 1.951e+03, -7.000e-02, -7.000e-02],\n",
       "       [ 1.952e+03,  1.000e-02, -8.000e-02],\n",
       "       [ 1.953e+03,  7.000e-02, -8.000e-02],\n",
       "       [ 1.954e+03, -1.500e-01, -7.000e-02],\n",
       "       [ 1.955e+03, -1.400e-01, -6.000e-02],\n",
       "       [ 1.956e+03, -2.100e-01, -5.000e-02],\n",
       "       [ 1.957e+03,  4.000e-02, -4.000e-02],\n",
       "       [ 1.958e+03,  7.000e-02, -1.000e-02],\n",
       "       [ 1.959e+03,  3.000e-02,  1.000e-02],\n",
       "       [ 1.960e+03, -2.000e-02,  3.000e-02],\n",
       "       [ 1.961e+03,  5.000e-02,  2.000e-02],\n",
       "       [ 1.962e+03,  4.000e-02, -0.000e+00],\n",
       "       [ 1.963e+03,  7.000e-02, -2.000e-02],\n",
       "       [ 1.964e+03, -2.000e-01, -3.000e-02],\n",
       "       [ 1.965e+03, -1.000e-01, -4.000e-02],\n",
       "       [ 1.966e+03, -5.000e-02, -5.000e-02],\n",
       "       [ 1.967e+03, -2.000e-02, -4.000e-02],\n",
       "       [ 1.968e+03, -7.000e-02, -3.000e-02],\n",
       "       [ 1.969e+03,  7.000e-02, -1.000e-02],\n",
       "       [ 1.970e+03,  3.000e-02, -0.000e+00],\n",
       "       [ 1.971e+03, -9.000e-02,  0.000e+00],\n",
       "       [ 1.972e+03,  1.000e-02, -0.000e+00],\n",
       "       [ 1.973e+03,  1.600e-01, -1.000e-02],\n",
       "       [ 1.974e+03, -8.000e-02, -0.000e+00],\n",
       "       [ 1.975e+03, -2.000e-02,  1.000e-02],\n",
       "       [ 1.976e+03, -1.100e-01,  3.000e-02],\n",
       "       [ 1.977e+03,  1.700e-01,  7.000e-02],\n",
       "       [ 1.978e+03,  6.000e-02,  1.200e-01],\n",
       "       [ 1.979e+03,  1.600e-01,  1.600e-01],\n",
       "       [ 1.980e+03,  2.700e-01,  2.000e-01],\n",
       "       [ 1.981e+03,  3.300e-01,  2.100e-01],\n",
       "       [ 1.982e+03,  1.300e-01,  2.200e-01],\n",
       "       [ 1.983e+03,  3.100e-01,  2.100e-01],\n",
       "       [ 1.984e+03,  1.600e-01,  2.100e-01],\n",
       "       [ 1.985e+03,  1.200e-01,  2.300e-01],\n",
       "       [ 1.986e+03,  1.800e-01,  2.500e-01],\n",
       "       [ 1.987e+03,  3.300e-01,  2.800e-01],\n",
       "       [ 1.988e+03,  4.100e-01,  3.100e-01],\n",
       "       [ 1.989e+03,  2.800e-01,  3.400e-01],\n",
       "       [ 1.990e+03,  4.400e-01,  3.400e-01],\n",
       "       [ 1.991e+03,  4.100e-01,  3.300e-01],\n",
       "       [ 1.992e+03,  2.200e-01,  3.300e-01],\n",
       "       [ 1.993e+03,  2.400e-01,  3.300e-01],\n",
       "       [ 1.994e+03,  3.100e-01,  3.400e-01],\n",
       "       [ 1.995e+03,  4.500e-01,  3.700e-01],\n",
       "       [ 1.996e+03,  3.400e-01,  4.100e-01],\n",
       "       [ 1.997e+03,  4.700e-01,  4.300e-01],\n",
       "       [ 1.998e+03,  6.200e-01,  4.500e-01],\n",
       "       [ 1.999e+03,  4.000e-01,  4.800e-01],\n",
       "       [ 2.000e+03,  4.000e-01,  5.000e-01],\n",
       "       [ 2.001e+03,  5.300e-01,  5.200e-01],\n",
       "       [ 2.002e+03,  6.200e-01,  5.500e-01],\n",
       "       [ 2.003e+03,  6.100e-01,  5.800e-01],\n",
       "       [ 2.004e+03,  5.300e-01,  6.000e-01],\n",
       "       [ 2.005e+03,  6.700e-01,  6.100e-01],\n",
       "       [ 2.006e+03,  6.200e-01,  6.100e-01],\n",
       "       [ 2.007e+03,  6.400e-01,  6.200e-01],\n",
       "       [ 2.008e+03,  5.200e-01,  6.200e-01],\n",
       "       [ 2.009e+03,  6.300e-01,  6.200e-01],\n",
       "       [ 2.010e+03,  7.000e-01,  6.200e-01],\n",
       "       [ 2.011e+03,  5.900e-01,  6.400e-01],\n",
       "       [ 2.012e+03,  6.200e-01,  6.700e-01],\n",
       "       [ 2.013e+03,  6.500e-01,  7.200e-01],\n",
       "       [ 2.014e+03,  7.300e-01,  7.600e-01],\n",
       "       [ 2.015e+03,  8.700e-01,  8.100e-01],\n",
       "       [ 2.016e+03,  9.900e-01,  8.500e-01],\n",
       "       [ 2.017e+03,  9.100e-01,  9.000e-01],\n",
       "       [ 2.018e+03,  8.300e-01,  9.400e-01]])"
      ]
     },
     "execution_count": 134,
     "metadata": {},
     "output_type": "execute_result"
    }
   ],
   "source": [
    "data"
   ]
  },
  {
   "cell_type": "markdown",
   "metadata": {},
   "source": [
    "### Splitting Array \n",
    "\n",
    "We want to take slices of the array and define them as the different variables for our plots."
   ]
  },
  {
   "cell_type": "code",
   "execution_count": 135,
   "metadata": {},
   "outputs": [],
   "source": [
    "years = data[0:,0:1]"
   ]
  },
  {
   "cell_type": "code",
   "execution_count": 136,
   "metadata": {},
   "outputs": [
    {
     "data": {
      "text/plain": [
       "(139, 1)"
      ]
     },
     "execution_count": 136,
     "metadata": {},
     "output_type": "execute_result"
    }
   ],
   "source": [
    "no_smooth = data[0:,1:2]\n",
    "no_smooth.shape"
   ]
  },
  {
   "cell_type": "code",
   "execution_count": 137,
   "metadata": {},
   "outputs": [],
   "source": [
    "smooth = data[0:,2:]"
   ]
  },
  {
   "cell_type": "markdown",
   "metadata": {},
   "source": [
    "### Recreate Plot"
   ]
  },
  {
   "cell_type": "code",
   "execution_count": 138,
   "metadata": {},
   "outputs": [],
   "source": [
    "# Graphing helper function\n",
    "def setup_graph(title='', x_label='', y_label='', fig_size=None):\n",
    "    fig = plt.figure()\n",
    "    if fig_size != None:\n",
    "        fig.set_size_inches(fig_size[0], fig_size[1])\n",
    "    ax = fig.add_subplot(111)\n",
    "    ax.set_title(title)\n",
    "    ax.set_xlabel(x_label)\n",
    "    ax.set_ylabel(y_label)"
   ]
  },
  {
   "cell_type": "code",
   "execution_count": 151,
   "metadata": {},
   "outputs": [
    {
     "data": {
      "text/plain": [
       "<matplotlib.legend.Legend at 0x1faf08d5c18>"
      ]
     },
     "execution_count": 151,
     "metadata": {},
     "output_type": "execute_result"
    },
    {
     "data": {
      "image/png": "[encoded data removed]",
      "text/plain": [
       "<Figure size 432x288 with 1 Axes>"
      ]
     },
     "metadata": {},
     "output_type": "display_data"
    }
   ],
   "source": [
    "setup_graph(x_label='Year', y_label='Temperature Anomally [C]', title='Global Land-Ocean Temperature Index')\n",
    "_ = plt.plot(years, no_smooth,  'c-o', label = 'Annual Mean')\n",
    "_ = plt.plot(years, smooth, 'b-', label = 'Lowess Smoothing')#, linewidth = '1.5')\n",
    "plt.legend()"
   ]
  },
  {
   "cell_type": "markdown",
   "metadata": {},
   "source": [
    "### Best Fit Line \n",
    "Now that we got the same plot as the website, we will do some linear fitting to segments of the data. The motivation is to show that the variation of the slope of that line for different time periods. The slope of line will relate to the increase in global average temperature anomally with time. "
   ]
  },
  {
   "cell_type": "code",
   "execution_count": 152,
   "metadata": {},
   "outputs": [
    {
     "data": {
      "text/plain": [
       "<matplotlib.legend.Legend at 0x1faf0962e48>"
      ]
     },
     "execution_count": 152,
     "metadata": {},
     "output_type": "execute_result"
    },
    {
     "data": {
      "image/png": "[encoded data removed]",
      "text/plain": [
       "<Figure size 432x288 with 1 Axes>"
      ]
     },
     "metadata": {},
     "output_type": "display_data"
    }
   ],
   "source": [
    "setup_graph(x_label='Year', y_label='Temperature Anomally [C]', title='Global Land-Ocean Temperature Index')\n",
    "_ = plt.plot(years, no_smooth,  'c-o', label = 'Annual Mean')\n",
    "_ = plt.plot(years, smooth, 'b-', label = 'Lowess Smoothing', linewidth = '1.25')\n",
    "_ = plt.plot(yrs[0:19], np.poly1d(np.polyfit(yrs[0:19], nsmth[0:19], 1))(yrs[0:19]), linewidth = '3.5')\n",
    "_ = plt.plot(yrs[19:39], np.poly1d(np.polyfit(yrs[19:39], nsmth[19:39], 1))(yrs[19:39]), linewidth = '3.5')\n",
    "_ = plt.plot(yrs[39:59], np.poly1d(np.polyfit(yrs[39:59], nsmth[39:59], 1))(yrs[39:59]), linewidth = '3.5')\n",
    "_ = plt.plot(yrs[59:79], np.poly1d(np.polyfit(yrs[59:79], nsmth[59:79], 1))(yrs[59:79]), linewidth = '3.5')\n",
    "_ = plt.plot(yrs[79:99], np.poly1d(np.polyfit(yrs[79:99], nsmth[79:99], 1))(yrs[79:99]), linewidth = '3.5')\n",
    "_ = plt.plot(yrs[99:119], np.poly1d(np.polyfit(yrs[99:119], nsmth[99:119], 1))(yrs[99:119]), linewidth = '3.5')\n",
    "_ = plt.plot(yrs[119:140], np.poly1d(np.polyfit(yrs[119:140], nsmth[119:140], 1))(yrs[119:140]), linewidth = '3.5')\n",
    "plt.legend()"
   ]
  },
  {
   "cell_type": "code",
   "execution_count": 25,
   "metadata": {},
   "outputs": [
    {
     "data": {
      "text/plain": [
       "(139, 1)"
      ]
     },
     "execution_count": 25,
     "metadata": {},
     "output_type": "execute_result"
    }
   ],
   "source": [
    "years.shape"
   ]
  },
  {
   "cell_type": "code",
   "execution_count": 26,
   "metadata": {},
   "outputs": [
    {
     "data": {
      "text/plain": [
       "numpy.ndarray"
      ]
     },
     "execution_count": 26,
     "metadata": {},
     "output_type": "execute_result"
    }
   ],
   "source": [
    "type(years)"
   ]
  },
  {
   "cell_type": "code",
   "execution_count": 27,
   "metadata": {},
   "outputs": [
    {
     "data": {
      "text/plain": [
       "(4,)"
      ]
     },
     "execution_count": 27,
     "metadata": {},
     "output_type": "execute_result"
    }
   ],
   "source": [
    "a = np.array([1,2,3,4,])\n",
    "a.shape"
   ]
  },
  {
   "cell_type": "code",
   "execution_count": 28,
   "metadata": {},
   "outputs": [
    {
     "data": {
      "text/plain": [
       "<function ndarray.flatten>"
      ]
     },
     "execution_count": 28,
     "metadata": {},
     "output_type": "execute_result"
    }
   ],
   "source": [
    "years.flatten"
   ]
  },
  {
   "cell_type": "code",
   "execution_count": 117,
   "metadata": {},
   "outputs": [
    {
     "data": {
      "text/plain": [
       "array([-0.19])"
      ]
     },
     "execution_count": 117,
     "metadata": {},
     "output_type": "execute_result"
    }
   ],
   "source": [
    "no_smooth[0]"
   ]
  },
  {
   "cell_type": "code",
   "execution_count": 118,
   "metadata": {},
   "outputs": [
    {
     "data": {
      "text/plain": [
       "[-0.19,\n",
       " -0.11,\n",
       " -0.12,\n",
       " -0.2,\n",
       " -0.3,\n",
       " -0.32,\n",
       " -0.33,\n",
       " -0.36,\n",
       " -0.18,\n",
       " -0.11,\n",
       " -0.37,\n",
       " -0.24,\n",
       " -0.27,\n",
       " -0.32,\n",
       " -0.32,\n",
       " -0.23,\n",
       " -0.12,\n",
       " -0.12,\n",
       " -0.28,\n",
       " -0.19,\n",
       " -0.09,\n",
       " -0.16,\n",
       " -0.3,\n",
       " -0.39,\n",
       " -0.49,\n",
       " -0.28,\n",
       " -0.23,\n",
       " -0.4,\n",
       " -0.44,\n",
       " -0.48,\n",
       " -0.43,\n",
       " -0.43,\n",
       " -0.36,\n",
       " -0.36,\n",
       " -0.16,\n",
       " -0.12,\n",
       " -0.33,\n",
       " -0.44,\n",
       " -0.28,\n",
       " -0.27,\n",
       " -0.26,\n",
       " -0.18,\n",
       " -0.27,\n",
       " -0.25,\n",
       " -0.25,\n",
       " -0.21,\n",
       " -0.09,\n",
       " -0.21,\n",
       " -0.19,\n",
       " -0.35,\n",
       " -0.15,\n",
       " -0.1,\n",
       " -0.17,\n",
       " -0.3,\n",
       " -0.14,\n",
       " -0.21,\n",
       " -0.16,\n",
       " -0.04,\n",
       " -0.04,\n",
       " -0.03,\n",
       " 0.11,\n",
       " 0.18,\n",
       " 0.05,\n",
       " 0.07,\n",
       " 0.2,\n",
       " 0.08,\n",
       " -0.07,\n",
       " -0.04,\n",
       " -0.11,\n",
       " -0.11,\n",
       " -0.18,\n",
       " -0.07,\n",
       " 0.01,\n",
       " 0.07,\n",
       " -0.15,\n",
       " -0.14,\n",
       " -0.21,\n",
       " 0.04,\n",
       " 0.07,\n",
       " 0.03,\n",
       " -0.02,\n",
       " 0.05,\n",
       " 0.04,\n",
       " 0.07,\n",
       " -0.2,\n",
       " -0.1,\n",
       " -0.05,\n",
       " -0.02,\n",
       " -0.07,\n",
       " 0.07,\n",
       " 0.03,\n",
       " -0.09,\n",
       " 0.01,\n",
       " 0.16,\n",
       " -0.08,\n",
       " -0.02,\n",
       " -0.11,\n",
       " 0.17,\n",
       " 0.06,\n",
       " 0.16,\n",
       " 0.27,\n",
       " 0.33,\n",
       " 0.13,\n",
       " 0.31,\n",
       " 0.16,\n",
       " 0.12,\n",
       " 0.18,\n",
       " 0.33,\n",
       " 0.41,\n",
       " 0.28,\n",
       " 0.44,\n",
       " 0.41,\n",
       " 0.22,\n",
       " 0.24,\n",
       " 0.31,\n",
       " 0.45,\n",
       " 0.34,\n",
       " 0.47,\n",
       " 0.62,\n",
       " 0.4,\n",
       " 0.4,\n",
       " 0.53,\n",
       " 0.62,\n",
       " 0.61,\n",
       " 0.53,\n",
       " 0.67,\n",
       " 0.62,\n",
       " 0.64,\n",
       " 0.52,\n",
       " 0.63,\n",
       " 0.7,\n",
       " 0.59,\n",
       " 0.62,\n",
       " 0.65,\n",
       " 0.73,\n",
       " 0.87,\n",
       " 0.99,\n",
       " 0.91,\n",
       " 0.83]"
      ]
     },
     "execution_count": 118,
     "metadata": {},
     "output_type": "execute_result"
    }
   ],
   "source": [
    "nsmth = []\n",
    "for i in range(len(no_smooth)):\n",
    "    nsmth.append(float(no_smooth[i]))\n",
    "\n",
    "nsmth"
   ]
  },
  {
   "cell_type": "code",
   "execution_count": 111,
   "metadata": {},
   "outputs": [],
   "source": [
    "yrs = []\n",
    "for i in range(len(years)):\n",
    "    yrs.append(int(years[i]))\n"
   ]
  },
  {
   "cell_type": "code",
   "execution_count": 112,
   "metadata": {},
   "outputs": [
    {
     "data": {
      "text/plain": [
       "[1880,\n",
       " 1881,\n",
       " 1882,\n",
       " 1883,\n",
       " 1884,\n",
       " 1885,\n",
       " 1886,\n",
       " 1887,\n",
       " 1888,\n",
       " 1889,\n",
       " 1890,\n",
       " 1891,\n",
       " 1892,\n",
       " 1893,\n",
       " 1894,\n",
       " 1895,\n",
       " 1896,\n",
       " 1897,\n",
       " 1898,\n",
       " 1899,\n",
       " 1900,\n",
       " 1901,\n",
       " 1902,\n",
       " 1903,\n",
       " 1904,\n",
       " 1905,\n",
       " 1906,\n",
       " 1907,\n",
       " 1908,\n",
       " 1909,\n",
       " 1910,\n",
       " 1911,\n",
       " 1912,\n",
       " 1913,\n",
       " 1914,\n",
       " 1915,\n",
       " 1916,\n",
       " 1917,\n",
       " 1918,\n",
       " 1919,\n",
       " 1920,\n",
       " 1921,\n",
       " 1922,\n",
       " 1923,\n",
       " 1924,\n",
       " 1925,\n",
       " 1926,\n",
       " 1927,\n",
       " 1928,\n",
       " 1929,\n",
       " 1930,\n",
       " 1931,\n",
       " 1932,\n",
       " 1933,\n",
       " 1934,\n",
       " 1935,\n",
       " 1936,\n",
       " 1937,\n",
       " 1938,\n",
       " 1939,\n",
       " 1940,\n",
       " 1941,\n",
       " 1942,\n",
       " 1943,\n",
       " 1944,\n",
       " 1945,\n",
       " 1946,\n",
       " 1947,\n",
       " 1948,\n",
       " 1949,\n",
       " 1950,\n",
       " 1951,\n",
       " 1952,\n",
       " 1953,\n",
       " 1954,\n",
       " 1955,\n",
       " 1956,\n",
       " 1957,\n",
       " 1958,\n",
       " 1959,\n",
       " 1960,\n",
       " 1961,\n",
       " 1962,\n",
       " 1963,\n",
       " 1964,\n",
       " 1965,\n",
       " 1966,\n",
       " 1967,\n",
       " 1968,\n",
       " 1969,\n",
       " 1970,\n",
       " 1971,\n",
       " 1972,\n",
       " 1973,\n",
       " 1974,\n",
       " 1975,\n",
       " 1976,\n",
       " 1977,\n",
       " 1978,\n",
       " 1979,\n",
       " 1980,\n",
       " 1981,\n",
       " 1982,\n",
       " 1983,\n",
       " 1984,\n",
       " 1985,\n",
       " 1986,\n",
       " 1987,\n",
       " 1988,\n",
       " 1989,\n",
       " 1990,\n",
       " 1991,\n",
       " 1992,\n",
       " 1993,\n",
       " 1994,\n",
       " 1995,\n",
       " 1996,\n",
       " 1997,\n",
       " 1998,\n",
       " 1999,\n",
       " 2000,\n",
       " 2001,\n",
       " 2002,\n",
       " 2003,\n",
       " 2004,\n",
       " 2005,\n",
       " 2006,\n",
       " 2007,\n",
       " 2008,\n",
       " 2009,\n",
       " 2010,\n",
       " 2011,\n",
       " 2012,\n",
       " 2013,\n",
       " 2014,\n",
       " 2015,\n",
       " 2016,\n",
       " 2017,\n",
       " 2018]"
      ]
     },
     "execution_count": 112,
     "metadata": {},
     "output_type": "execute_result"
    }
   ],
   "source": [
    "yrs"
   ]
  },
  {
   "cell_type": "code",
   "execution_count": 122,
   "metadata": {},
   "outputs": [
    {
     "data": {
      "text/plain": [
       "array([ 7.35752268e-03, -1.43092362e+01])"
      ]
     },
     "execution_count": 122,
     "metadata": {},
     "output_type": "execute_result"
    }
   ],
   "source": [
    "np.polyfit(yrs,nsmth,1)"
   ]
  },
  {
   "cell_type": "code",
   "execution_count": 125,
   "metadata": {},
   "outputs": [
    {
     "data": {
      "text/plain": [
       "1880"
      ]
     },
     "execution_count": 125,
     "metadata": {},
     "output_type": "execute_result"
    }
   ],
   "source": [
    "yrs[0]"
   ]
  },
  {
   "cell_type": "code",
   "execution_count": null,
   "metadata": {},
   "outputs": [],
   "source": []
  }
 ],
 "metadata": {
  "kernelspec": {
   "display_name": "Python 3",
   "language": "python",
   "name": "python3"
  },
  "language_info": {
   "codemirror_mode": {
    "name": "ipython",
    "version": 3
   },
   "file_extension": ".py",
   "mimetype": "text/x-python",
   "name": "python",
   "nbconvert_exporter": "python",
   "pygments_lexer": "ipython3",
   "version": "3.6.5"
  }
 },
 "nbformat": 4,
 "nbformat_minor": 2
}
