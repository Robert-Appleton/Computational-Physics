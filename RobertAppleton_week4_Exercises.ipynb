{
 "cells": [
  {
   "cell_type": "markdown",
   "metadata": {},
   "source": [
    "# Excercises\n",
    "Python with no Fear\n",
    "* 4.1.1, 4.1.2, 4.1.3\n",
    "* 4.2.1, 4.2.2, 4.2.3\n",
    "* 4.3.1, 4.3.2, 4.3.3\n"
   ]
  },
  {
   "cell_type": "markdown",
   "metadata": {},
   "source": [
    "4.1.1 - Write a program similar to Example 4.1 that prompts the user for a number and tests to see if it is in the range 1 to 100. If it is, print a message verifying that it is in range; if not, print a message reporting that it is out of range."
   ]
  },
  {
   "cell_type": "code",
   "execution_count": 2,
   "metadata": {},
   "outputs": [],
   "source": [
    "def main(): \n",
    "    number = int(input('Enter any integer, please: ')) # user inputs a number   \n",
    "    \n",
    "     \n",
    "    if number >= 1 and number <= 100:  # if statement checking if number is in range\n",
    "        print('Number is in the range 1 to 100!')    \n",
    "    else:  # if statement fails condition\n",
    "        print('Number is not in the range 1 to 100!')"
   ]
  },
  {
   "cell_type": "code",
   "execution_count": 3,
   "metadata": {},
   "outputs": [
    {
     "name": "stdout",
     "output_type": "stream",
     "text": [
      "Enter any integer, please: 55\n",
      "Number is in the range 1 to 100!\n"
     ]
    }
   ],
   "source": [
    "main()  # lets see how it works, 55 should be in range"
   ]
  },
  {
   "cell_type": "code",
   "execution_count": 4,
   "metadata": {},
   "outputs": [
    {
     "name": "stdout",
     "output_type": "stream",
     "text": [
      "Enter any integer, please: 100\n",
      "Number is in the range 1 to 100!\n"
     ]
    }
   ],
   "source": [
    "main()   #test upper range, 100"
   ]
  },
  {
   "cell_type": "code",
   "execution_count": 5,
   "metadata": {},
   "outputs": [
    {
     "name": "stdout",
     "output_type": "stream",
     "text": [
      "Enter any integer, please: 1\n",
      "Number is in the range 1 to 100!\n"
     ]
    }
   ],
   "source": [
    "main()  # lower range"
   ]
  },
  {
   "cell_type": "code",
   "execution_count": 6,
   "metadata": {},
   "outputs": [
    {
     "name": "stdout",
     "output_type": "stream",
     "text": [
      "Enter any integer, please: 101\n",
      "Number is not in the range 1 to 100!\n"
     ]
    }
   ],
   "source": [
    "main()  # 101 should not be in range"
   ]
  },
  {
   "cell_type": "code",
   "execution_count": 7,
   "metadata": {},
   "outputs": [
    {
     "name": "stdout",
     "output_type": "stream",
     "text": [
      "Enter any integer, please: 0\n",
      "Number is not in the range 1 to 100!\n"
     ]
    }
   ],
   "source": [
    "main()  # 0 should not be in range"
   ]
  },
  {
   "cell_type": "markdown",
   "metadata": {},
   "source": [
    "4.1.2 - Modify the answer to Exercise 4.1.1, but use a different way of expressing the condition. The results should be precisely the same (given the same user input), but the condition should involve the use of the not and or keywords."
   ]
  },
  {
   "cell_type": "code",
   "execution_count": 8,
   "metadata": {},
   "outputs": [],
   "source": [
    "def main(): \n",
    "    number = int(input('Enter any integer, please: ')) # user inputs a number   \n",
    "    \n",
    "     \n",
    "    if not (number <= 1 or number >= 100):  # if statement checking if number is in range\n",
    "        print('Number is in the range 1 to 100!')    \n",
    "    else:  # if statement fails condition\n",
    "        print('Number is not in the range 1 to 100!')"
   ]
  },
  {
   "cell_type": "code",
   "execution_count": 9,
   "metadata": {},
   "outputs": [
    {
     "name": "stdout",
     "output_type": "stream",
     "text": [
      "Enter any integer, please: 100\n",
      "Number is not in the range 1 to 100!\n"
     ]
    }
   ],
   "source": [
    "main() # testing"
   ]
  },
  {
   "cell_type": "code",
   "execution_count": 10,
   "metadata": {},
   "outputs": [
    {
     "name": "stdout",
     "output_type": "stream",
     "text": [
      "Enter any integer, please: 100\n",
      "Number is not in the range 1 to 100!\n"
     ]
    }
   ],
   "source": [
    "main() # 100 is now not in range so im going to do some fixing "
   ]
  },
  {
   "cell_type": "code",
   "execution_count": 11,
   "metadata": {},
   "outputs": [
    {
     "name": "stdout",
     "output_type": "stream",
     "text": [
      "Enter any integer, please: 1\n",
      "Number is not in the range 1 to 100!\n"
     ]
    }
   ],
   "source": [
    "main() # 1 also not in range so going to fix as well"
   ]
  },
  {
   "cell_type": "code",
   "execution_count": 12,
   "metadata": {},
   "outputs": [],
   "source": [
    "def main(): \n",
    "    number = int(input('Enter any integer, please: ')) # user inputs a number   \n",
    "    \n",
    "     \n",
    "    if not (number < 1 or number > 100):  # if statement checking if number is in range\n",
    "        print('Number is in the range 1 to 100!')    \n",
    "    else:  # if statement fails condition\n",
    "        print('Number is not in the range 1 to 100!')"
   ]
  },
  {
   "cell_type": "code",
   "execution_count": 13,
   "metadata": {},
   "outputs": [
    {
     "name": "stdout",
     "output_type": "stream",
     "text": [
      "Enter any integer, please: 1\n",
      "Number is in the range 1 to 100!\n"
     ]
    }
   ],
   "source": [
    "main()  # fixed"
   ]
  },
  {
   "cell_type": "code",
   "execution_count": 14,
   "metadata": {},
   "outputs": [
    {
     "name": "stdout",
     "output_type": "stream",
     "text": [
      "Enter any integer, please: 100\n",
      "Number is in the range 1 to 100!\n"
     ]
    }
   ],
   "source": [
    "main()  "
   ]
  },
  {
   "cell_type": "markdown",
   "metadata": {},
   "source": [
    "4.1.3 - Write a program that takes an integer n as input and then prints a message stating whether it is or is not a multiple of 7."
   ]
  },
  {
   "cell_type": "markdown",
   "metadata": {},
   "source": [
    "We want to write a program that will have a user input an integer n. Next, the program will mod divide (remainder division) the number by 7 and save the result as a variable. Next, there will be an if statement checking if the remainder is 0, which will correspond to integers divisible by 7. If the if statements passes then a print statement will state the number is divisible by 7. An else statement will also be inlcuded to have a print statement that states if the number is not divisible by 7."
   ]
  },
  {
   "cell_type": "code",
   "execution_count": 15,
   "metadata": {},
   "outputs": [],
   "source": [
    "def is_div_by_7():\n",
    "    n = int(input('Enter any integer, please: ')) # user inputs a number\n",
    "    remainder = n % 7    # mod divide number by 7\n",
    "    if remainder == 0:   # test if remainder is 0     \n",
    "        print('n is divisible by 7.')\n",
    "    else:\n",
    "        print('n is not divisible by 7')"
   ]
  },
  {
   "cell_type": "code",
   "execution_count": 16,
   "metadata": {},
   "outputs": [
    {
     "name": "stdout",
     "output_type": "stream",
     "text": [
      "Enter any integer, please: 49\n",
      "n is divisible by 7.\n"
     ]
    }
   ],
   "source": [
    "is_div_by_7()   # 49 should be divisible"
   ]
  },
  {
   "cell_type": "code",
   "execution_count": 17,
   "metadata": {},
   "outputs": [
    {
     "name": "stdout",
     "output_type": "stream",
     "text": [
      "Enter any integer, please: 100\n",
      "n is not divisible by 7\n"
     ]
    }
   ],
   "source": [
    "is_div_by_7()    # 100 should not be divisible"
   ]
  },
  {
   "cell_type": "markdown",
   "metadata": {},
   "source": [
    "4.2.21 - Revise Example 4.2—in either the simple or expanded version—so that it prints a nicely formatted output statement ending in a period, as follows: \n",
    "\n",
    "The factorial of 5 is 120."
   ]
  },
  {
   "cell_type": "code",
   "execution_count": 18,
   "metadata": {},
   "outputs": [
    {
     "name": "stdout",
     "output_type": "stream",
     "text": [
      "Enter n (0 to quit): 5\n",
      "The factorial of 5 is 120.\n",
      "Enter n (0 to quit): 4\n",
      "The factorial of 4 is 24.\n",
      "Enter n (0 to quit): 3\n",
      "The factorial of 3 is 6.\n",
      "Enter n (0 to quit): 2\n",
      "The factorial of 2 is 2.\n",
      "Enter n (0 to quit): 1\n",
      "The factorial of 1 is 1.\n",
      "Enter n (0 to quit): 0\n",
      "Bye now!\n"
     ]
    }
   ],
   "source": [
    "n = int(input('Enter n (0 to quit): ')) \n",
    "while n != 0:   \n",
    "    prod = 1    \n",
    "    i = 2    \n",
    "    while i <= n:        \n",
    "        prod *= i        \n",
    "        i += 1    \n",
    "    fss = 'The factorial of {} is {}.'\n",
    "    output_str = fss.format(n, prod)\n",
    "    print(output_str)  \n",
    "    n = int(input('Enter n (0 to quit): '))\n",
    "print('Bye now!')"
   ]
  },
  {
   "cell_type": "markdown",
   "metadata": {},
   "source": [
    "4.2.2 - Write a program to calculate and print the triangle number for any given input. Instead of using a variable named prod, call the variable sum. The triangle number for N is defined as follows: \n",
    "\n",
    "1 + 2 + 3 + ... N \n",
    "\n",
    "So, for example, the triangle number for 5 is 1 + 2 + 3 + 4 + 5 = 15."
   ]
  },
  {
   "cell_type": "code",
   "execution_count": 19,
   "metadata": {},
   "outputs": [
    {
     "name": "stdout",
     "output_type": "stream",
     "text": [
      "Enter n (0 to quit): 5\n",
      "The triangle number of 5 is 15.\n",
      "Enter n (0 to quit): 4\n",
      "The triangle number of 4 is 10.\n",
      "Enter n (0 to quit): 3\n",
      "The triangle number of 3 is 6.\n",
      "Enter n (0 to quit): 2\n",
      "The triangle number of 2 is 3.\n",
      "Enter n (0 to quit): 1\n",
      "The triangle number of 1 is 1.\n",
      "Enter n (0 to quit): 0\n",
      "Bye now!\n"
     ]
    }
   ],
   "source": [
    "n = int(input('Enter n (0 to quit): ')) \n",
    "while n != 0:   \n",
    "    add = 0    # initialize to 0\n",
    "    i = 0    # initialize to 0\n",
    "    while i <= n:        \n",
    "        add += i        \n",
    "        i += 1    \n",
    "    fss = 'The triangle number of {} is {}.'\n",
    "    output_str = fss.format(n, add)\n",
    "    print(output_str)  \n",
    "    n = int(input('Enter n (0 to quit): '))\n",
    "print('Bye now!')"
   ]
  },
  {
   "cell_type": "markdown",
   "metadata": {},
   "source": [
    "4.2.3 - Expand on the answer to Exercise 4.2.2 so that each time the program calculates a triangle number, it also tests the Triangle Number theorem and prints a message stating whether the theorem holds. This theorem states that for any given N, \n",
    "\n",
    "1 + 2 + 3 + ... N  =  N * (N + 1) / 2"
   ]
  },
  {
   "cell_type": "code",
   "execution_count": 20,
   "metadata": {},
   "outputs": [
    {
     "name": "stdout",
     "output_type": "stream",
     "text": [
      "Enter n (0 to quit): 5\n",
      "The triangle number of 5 is 15.\n",
      "Triangle Number Theorem holds.\n",
      "Enter n (0 to quit): 4\n",
      "The triangle number of 4 is 10.\n",
      "Triangle Number Theorem holds.\n",
      "Enter n (0 to quit): 3\n",
      "The triangle number of 3 is 6.\n",
      "Triangle Number Theorem holds.\n",
      "Enter n (0 to quit): 2\n",
      "The triangle number of 2 is 3.\n",
      "Triangle Number Theorem holds.\n",
      "Enter n (0 to quit): 1\n",
      "The triangle number of 1 is 1.\n",
      "Triangle Number Theorem holds.\n",
      "Enter n (0 to quit): 0\n",
      "Bye now!\n"
     ]
    }
   ],
   "source": [
    "n = int(input('Enter n (0 to quit): ')) \n",
    "while n != 0:   \n",
    "    add = 0    # initialize to 0\n",
    "    i = 0    # initialize to 0\n",
    "    while i <= n:        \n",
    "        add += i        \n",
    "        i += 1    \n",
    "    fss = 'The triangle number of {} is {}.'\n",
    "    output_str = fss.format(n, add)\n",
    "    print(output_str)  \n",
    "    \n",
    "    triangle_theorem = n*(n+1)/2  # define the Triangle Number Theorem \n",
    "    if triangle_theorem == add: # test if the theorem holds\n",
    "        print('Triangle Number Theorem holds.')\n",
    "    n = int(input('Enter n (0 to quit): '))\n",
    "print('Bye now!')"
   ]
  },
  {
   "cell_type": "markdown",
   "metadata": {},
   "source": [
    "4.3.1 - Instead of having the program pick a secret number from 1 to 50, revise it to pick a number from 1 to 100. This should be easy, as you have to change only one line."
   ]
  },
  {
   "cell_type": "code",
   "execution_count": 21,
   "metadata": {},
   "outputs": [
    {
     "name": "stdout",
     "output_type": "stream",
     "text": [
      "Enter your guess: 50\n",
      "Too low.\n",
      "Enter your guess: 75\n",
      "Too high.\n",
      "Enter your guess: 66\n",
      "Too high.\n",
      "Enter your guess: 60\n",
      "Too high.\n",
      "Enter your guess: 55\n",
      "Too low.\n",
      "Enter your guess: 57\n",
      "Too low.\n",
      "Enter your guess: 59\n",
      "Too high.\n",
      "Enter your guess: 58\n",
      "Success! You win!\n"
     ]
    }
   ],
   "source": [
    "import random \n",
    "n = random.randint(1, 100) \n",
    "while True:    \n",
    "    ans = int(input('Enter your guess: '))    \n",
    "    if ans == n:        \n",
    "        print('Success! You win!')        \n",
    "        break    \n",
    "    elif ans > n:        \n",
    "        print('Too high.')   \n",
    "    else:        \n",
    "        print('Too low.')"
   ]
  },
  {
   "cell_type": "markdown",
   "metadata": {},
   "source": [
    "4.3.2 - Revise the program so that it gives some instructions up front, advising the end user that it will be guessing a secret number in a certain range."
   ]
  },
  {
   "cell_type": "code",
   "execution_count": 22,
   "metadata": {},
   "outputs": [
    {
     "name": "stdout",
     "output_type": "stream",
     "text": [
      "Guess an integer between 1-100: 50\n",
      "Too low. Guess an integer above last guess.\n",
      "Guess an integer between 1-100: 75\n",
      "Too low. Guess an integer above last guess.\n",
      "Guess an integer between 1-100: 86\n",
      "Success! You win!\n"
     ]
    }
   ],
   "source": [
    "import random \n",
    "n = random.randint(1, 100) \n",
    "while True:    \n",
    "    ans = int(input('Guess an integer between 1-100: '))    \n",
    "    if ans == n:        \n",
    "        print('Success! You win!')        \n",
    "        break    \n",
    "    elif ans > n:        \n",
    "        print('Too high. Guess an integer below last guess.')   \n",
    "    else:        \n",
    "        print('Too low. Guess an integer above last guess.')"
   ]
  },
  {
   "cell_type": "markdown",
   "metadata": {},
   "source": [
    "4.3.3 - Revise the loop so that it repeats the game until the end user wants to stop. The user indicates this by entering 0 at any time. To make this work, the “success” alternative will need to choose a new random number and then continue the game. You’ll also need to add an elif alternative that tests whether ans is equal to 0, at which point it should break."
   ]
  },
  {
   "cell_type": "code",
   "execution_count": 23,
   "metadata": {},
   "outputs": [
    {
     "name": "stdout",
     "output_type": "stream",
     "text": [
      "Guess an integer between 1-100: 50\n",
      "Too low. Guess an integer above last guess.\n",
      "Guess an integer between 1-100: 75\n",
      "Too high. Guess an integer below last guess.\n",
      "Guess an integer between 1-100: 66\n",
      "Too high. Guess an integer below last guess.\n",
      "Guess an integer between 1-100: 60\n",
      "Too high. Guess an integer below last guess.\n",
      "Guess an integer between 1-100: 55\n",
      "Too high. Guess an integer below last guess.\n",
      "Guess an integer between 1-100: 53\n",
      "Too high. Guess an integer below last guess.\n",
      "Guess an integer between 1-100: 52\n",
      "Too high. Guess an integer below last guess.\n",
      "Guess an integer between 1-100: 51\n",
      "Success! You win! Lets play again!\n",
      "Guess an integer between 1-100: 50\n",
      "Too low. Guess an integer above last guess.\n",
      "Guess an integer between 1-100: 75\n",
      "Too low. Guess an integer above last guess.\n",
      "Guess an integer between 1-100: 86\n",
      "Too high. Guess an integer below last guess.\n",
      "Guess an integer between 1-100: 80\n",
      "Success! You win! Lets play again!\n",
      "Guess an integer between 1-100: 0\n",
      "Bye now!\n"
     ]
    }
   ],
   "source": [
    "import random \n",
    "n = random.randint(1, 100) \n",
    "while True:    \n",
    "    ans = int(input('Guess an integer between 1-100: '))    \n",
    "    if ans == n:        \n",
    "        print('Success! You win! Lets play again!')\n",
    "        n = random.randint(1,100)\n",
    "           \n",
    "    elif ans > n:        \n",
    "        print('Too high. Guess an integer below last guess.')   \n",
    "    elif ans == 0:        \n",
    "        print('Bye now!')\n",
    "        break\n",
    "    else:\n",
    "        print('Too low. Guess an integer above last guess.')\n",
    "    "
   ]
  },
  {
   "cell_type": "markdown",
   "metadata": {},
   "source": [
    "# Project 1\n",
    "Physics problems\n",
    "\n",
    "* This equation should have more than two variables that are getting multiplied/added/divided together\n",
    "* You can not use ones that we have already used such as F=ma and V = IR\n",
    "* (hint - check out one of your recent reading assignments on how to do this)\n",
    "* This function should take at least two input parameters and output one (or an array)\n",
    "* (hint - you learned how to do this in a slick way from your scipy/numpy book)\n",
    "* For example in the equation V = IR then I could be parameter #1 and R could be parameter #2\n",
    "* Label the x and y axis - make sure there are appropriate units\n",
    "* Label each line with information about what makes this line different\n",
    "* For example, I would have a plot that has V vs. I with 5 different lines corresponding to different resistor values.\n",
    "* Find any physics equation that you have used in previous courses\n",
    "* Write out your path\n",
    "    * This step is very important towards full credit\n",
    "    * Explain what problem you are trying to solve, what parameters are in them, which ones are you varying and how you intend to solve this \n",
    "* Define a python function for your chosen equation\n",
    "* Set parameter #1 to have 50 different values\n",
    "* Change the value for parameter #2 then re-calculate your equation for the first same 50 values\n",
    "* Redo changing parameter #2 a total of 5 times\n",
    "* Create a plot with your results\n",
    "* Your final plot should have 5 total lines on them with different colors and labels\n",
    "    * For example, I would have a plot that has V vs. I with 5 different lines corresponding to different resistor values.\n",
    "* Write up your final conclusions\n",
    "    * Orient the reader on what is in the plot (i.e. left and right vs. up and down)\n",
    "    * Explain the different values you calculated\n",
    "    * Draw some conclusions from what you learned"
   ]
  },
  {
   "cell_type": "markdown",
   "metadata": {},
   "source": [
    "### Max height of a rocket with varrying force of thrust and launch angle\n",
    "I want to use equations of motion to determine the max height of a rocket with different forces of thrust and also changing the launch angle. I will have 50 different forces of thrust and 5 different launch angles, so my plot will have Force vs Max height with 5 curves corresponding to the different launch angles. For my rocket, I am going to assume mass is constant so all i need to do is go from force to acceleration. I will have a burn time of 3 seconds where there is force of gravity and force of thrust and so I will have to find the net force, and thus the net acceleration for these 3 seconds. I will then calculate the velocity of the rocket after burnout and simply use launch angle and kinematic equations to find the max height. I will then plot the results. \n",
    "\n",
    "The relevant equations are here below:\n",
    "\n",
    "F = ma\n",
    "\n",
    "v_f = v_i + at\n",
    "\n",
    "v_f^2 = v_i^2 + 2ad\n",
    "\n",
    "v_y = vsin(theta)\n",
    "\n"
   ]
  },
  {
   "cell_type": "markdown",
   "metadata": {},
   "source": [
    "### Import packages"
   ]
  },
  {
   "cell_type": "code",
   "execution_count": 24,
   "metadata": {},
   "outputs": [],
   "source": [
    "import numpy as np \n",
    "import scipy\n",
    "import matplotlib.pyplot as plt\n",
    "%matplotlib inline"
   ]
  },
  {
   "cell_type": "markdown",
   "metadata": {},
   "source": [
    "### Graphing helper function"
   ]
  },
  {
   "cell_type": "code",
   "execution_count": 25,
   "metadata": {},
   "outputs": [],
   "source": [
    "# Graphing helper function\n",
    "def setup_graph(title='', x_label='', y_label='', fig_size=None):\n",
    "    fig = plt.figure()\n",
    "    if fig_size != None:\n",
    "        fig.set_size_inches(fig_size[0], fig_size[1])\n",
    "    ax = fig.add_subplot(111)\n",
    "    ax.set_title(title)\n",
    "    ax.set_xlabel(x_label)\n",
    "    ax.set_ylabel(y_label)"
   ]
  },
  {
   "cell_type": "markdown",
   "metadata": {},
   "source": [
    "### Force to acceleration"
   ]
  },
  {
   "cell_type": "code",
   "execution_count": 26,
   "metadata": {},
   "outputs": [],
   "source": [
    "Mass_kg = 2000  # mass of rocket - we will look at a rocket that weighs about the same as a typical car\n",
    "F_thrust = np.linspace(50000,70000,50)  #Array of 50 forces from 50,000N to 70,000N\n",
    "F_gravity = Mass_kg*(-9.8)  #Newtons\n",
    "F_net = F_thrust - F_gravity  #Array of net forces\n",
    "accel = F_net / Mass_kg  #Array of accelerations due to net force"
   ]
  },
  {
   "cell_type": "code",
   "execution_count": 27,
   "metadata": {},
   "outputs": [
    {
     "data": {
      "text/plain": [
       "array([50000.        , 50408.16326531, 50816.32653061, 51224.48979592,\n",
       "       51632.65306122, 52040.81632653, 52448.97959184, 52857.14285714,\n",
       "       53265.30612245, 53673.46938776, 54081.63265306, 54489.79591837,\n",
       "       54897.95918367, 55306.12244898, 55714.28571429, 56122.44897959,\n",
       "       56530.6122449 , 56938.7755102 , 57346.93877551, 57755.10204082,\n",
       "       58163.26530612, 58571.42857143, 58979.59183673, 59387.75510204,\n",
       "       59795.91836735, 60204.08163265, 60612.24489796, 61020.40816327,\n",
       "       61428.57142857, 61836.73469388, 62244.89795918, 62653.06122449,\n",
       "       63061.2244898 , 63469.3877551 , 63877.55102041, 64285.71428571,\n",
       "       64693.87755102, 65102.04081633, 65510.20408163, 65918.36734694,\n",
       "       66326.53061224, 66734.69387755, 67142.85714286, 67551.02040816,\n",
       "       67959.18367347, 68367.34693878, 68775.51020408, 69183.67346939,\n",
       "       69591.83673469, 70000.        ])"
      ]
     },
     "execution_count": 27,
     "metadata": {},
     "output_type": "execute_result"
    }
   ],
   "source": [
    "F_thrust"
   ]
  },
  {
   "cell_type": "code",
   "execution_count": 28,
   "metadata": {},
   "outputs": [
    {
     "data": {
      "text/plain": [
       "array([34.8       , 35.00408163, 35.20816327, 35.4122449 , 35.61632653,\n",
       "       35.82040816, 36.0244898 , 36.22857143, 36.43265306, 36.63673469,\n",
       "       36.84081633, 37.04489796, 37.24897959, 37.45306122, 37.65714286,\n",
       "       37.86122449, 38.06530612, 38.26938776, 38.47346939, 38.67755102,\n",
       "       38.88163265, 39.08571429, 39.28979592, 39.49387755, 39.69795918,\n",
       "       39.90204082, 40.10612245, 40.31020408, 40.51428571, 40.71836735,\n",
       "       40.92244898, 41.12653061, 41.33061224, 41.53469388, 41.73877551,\n",
       "       41.94285714, 42.14693878, 42.35102041, 42.55510204, 42.75918367,\n",
       "       42.96326531, 43.16734694, 43.37142857, 43.5755102 , 43.77959184,\n",
       "       43.98367347, 44.1877551 , 44.39183673, 44.59591837, 44.8       ])"
      ]
     },
     "execution_count": 28,
     "metadata": {},
     "output_type": "execute_result"
    }
   ],
   "source": [
    "accel"
   ]
  },
  {
   "cell_type": "markdown",
   "metadata": {},
   "source": [
    "### Acceleration to launch velocity after 3 seconds"
   ]
  },
  {
   "cell_type": "code",
   "execution_count": 29,
   "metadata": {},
   "outputs": [
    {
     "data": {
      "text/plain": [
       "array([104.4       , 105.0122449 , 105.6244898 , 106.23673469,\n",
       "       106.84897959, 107.46122449, 108.07346939, 108.68571429,\n",
       "       109.29795918, 109.91020408, 110.52244898, 111.13469388,\n",
       "       111.74693878, 112.35918367, 112.97142857, 113.58367347,\n",
       "       114.19591837, 114.80816327, 115.42040816, 116.03265306,\n",
       "       116.64489796, 117.25714286, 117.86938776, 118.48163265,\n",
       "       119.09387755, 119.70612245, 120.31836735, 120.93061224,\n",
       "       121.54285714, 122.15510204, 122.76734694, 123.37959184,\n",
       "       123.99183673, 124.60408163, 125.21632653, 125.82857143,\n",
       "       126.44081633, 127.05306122, 127.66530612, 128.27755102,\n",
       "       128.88979592, 129.50204082, 130.11428571, 130.72653061,\n",
       "       131.33877551, 131.95102041, 132.56326531, 133.1755102 ,\n",
       "       133.7877551 , 134.4       ])"
      ]
     },
     "execution_count": 29,
     "metadata": {},
     "output_type": "execute_result"
    }
   ],
   "source": [
    "t_burn = 3 # burn time is 3 seconds\n",
    "v_i = 0  # starts from rest\n",
    "v_launch = v_i + accel*t_burn  # array of launch velocities\n",
    "v_launch"
   ]
  },
  {
   "cell_type": "markdown",
   "metadata": {},
   "source": [
    "### Height traveled during fuel burn"
   ]
  },
  {
   "cell_type": "code",
   "execution_count": 30,
   "metadata": {},
   "outputs": [],
   "source": [
    "launch_height = (v_launch**2)/(2*9.8)  #height traveled during burn\n",
    "\n",
    "# for simplicity we will assume during fuel burn the rocket is always at angle 0 and the launch angle occurs after burnout"
   ]
  },
  {
   "cell_type": "markdown",
   "metadata": {},
   "source": [
    "### Launch velocity to vertical velocity based on launch angle"
   ]
  },
  {
   "cell_type": "code",
   "execution_count": 31,
   "metadata": {},
   "outputs": [
    {
     "data": {
      "text/plain": [
       "array([ 96.45302319,  97.01866372,  97.58430425,  98.14994478,\n",
       "        98.71558531,  99.28122584,  99.84686637, 100.4125069 ,\n",
       "       100.97814744, 101.54378797, 102.1094285 , 102.67506903,\n",
       "       103.24070956, 103.80635009, 104.37199062, 104.93763115,\n",
       "       105.50327168, 106.06891221, 106.63455274, 107.20019327,\n",
       "       107.7658338 , 108.33147433, 108.89711486, 109.46275539,\n",
       "       110.02839592, 110.59403645, 111.15967698, 111.72531751,\n",
       "       112.29095804, 112.85659857, 113.4222391 , 113.98787963,\n",
       "       114.55352016, 115.11916069, 115.68480122, 116.25044175,\n",
       "       116.81608228, 117.38172281, 117.94736334, 118.51300387,\n",
       "       119.0786444 , 119.64428493, 120.20992546, 120.77556599,\n",
       "       121.34120652, 121.90684705, 122.47248758, 123.03812811,\n",
       "       123.60376864, 124.16940917])"
      ]
     },
     "execution_count": 31,
     "metadata": {},
     "output_type": "execute_result"
    }
   ],
   "source": [
    "launch_angle = np.linspace(0,np.pi/4,5)  # array of 5 different launch angles in degrees\n",
    "v_0 = v_launch*np.cos(launch_angle[0])  # array of initial vertical speeds for 0 launch angle\n",
    "v_11_25 = v_launch*np.cos(launch_angle[1])  # launch angle 11.25\n",
    "v_22_5 = v_launch*np.cos(launch_angle[2])  # launch angle 22.5\n",
    "v_33_75 = v_launch*np.cos(launch_angle[3])  # launch angle 33.75\n",
    "v_45 = v_launch*np.cos(launch_angle[4])  # launch angle 45\n",
    "v_22_5"
   ]
  },
  {
   "cell_type": "markdown",
   "metadata": {},
   "source": [
    "### Vertical velocity to max height"
   ]
  },
  {
   "cell_type": "code",
   "execution_count": 32,
   "metadata": {},
   "outputs": [
    {
     "data": {
      "text/plain": [
       "array([1112.17959184, 1125.26240597, 1138.42171884, 1151.65753045,\n",
       "       1164.9698408 , 1178.35864988, 1191.8239577 , 1205.36576426,\n",
       "       1218.98406956, 1232.6788736 , 1246.45017637, 1260.29797788,\n",
       "       1274.22227813, 1288.22307712, 1302.30037484, 1316.45417131,\n",
       "       1330.68446651, 1344.99126044, 1359.37455312, 1373.83434453,\n",
       "       1388.37063468, 1402.98342357, 1417.6727112 , 1432.43849756,\n",
       "       1447.28078267, 1462.19956651, 1477.19484908, 1492.2666304 ,\n",
       "       1507.41491045, 1522.63968925, 1537.94096677, 1553.31874304,\n",
       "       1568.77301805, 1584.30379179, 1599.91106427, 1615.59483549,\n",
       "       1631.35510544, 1647.19187413, 1663.10514157, 1679.09490773,\n",
       "       1695.16117264, 1711.30393629, 1727.52319867, 1743.81895979,\n",
       "       1760.19121964, 1776.63997824, 1793.16523557, 1809.76699164,\n",
       "       1826.44524645, 1843.2       ])"
      ]
     },
     "execution_count": 32,
     "metadata": {},
     "output_type": "execute_result"
    }
   ],
   "source": [
    "max_height_0 = (v_0**2)/(2*9.8) + launch_height #0 launch angle\n",
    "max_height_11_25 = (v_11_25**2)/(2*9.8) + launch_height   #11.25 launch angle\n",
    "max_height_22_5 = (v_22_5**2)/(2*9.8) + launch_height #22.5 launch angle\n",
    "max_height_33_75 = (v_33_75**2)/(2*9.8) + launch_height # 33.75 launch angle\n",
    "max_height_45 = (v_45**2)/(2*9.8) + launch_height # 45 launch angle\n",
    "max_height_0"
   ]
  },
  {
   "cell_type": "markdown",
   "metadata": {},
   "source": [
    "### Plotting the results"
   ]
  },
  {
   "cell_type": "code",
   "execution_count": 33,
   "metadata": {},
   "outputs": [
    {
     "data": {
      "image/png": "[encoded data removed]",
      "text/plain": [
       "<Figure size 432x288 with 1 Axes>"
      ]
     },
     "metadata": {},
     "output_type": "display_data"
    }
   ],
   "source": [
    "setup_graph(x_label='Force of Thrust (N)', y_label='Max Height [M]', title='Max Height based on Thrust and Launch Angle')\n",
    "_ = plt.plot(F_thrust, max_height_0, label = \"0\")\n",
    "_ = plt.plot(F_thrust, max_height_11_25, label = \"11.25\")\n",
    "_ = plt.plot(F_thrust, max_height_22_5, label = \"22.5\")\n",
    "_ = plt.plot(F_thrust, max_height_33_75, label = \"33.75\")\n",
    "_ = plt.plot(F_thrust, max_height_45, label = \"45\")\n",
    "_ = plt.legend()"
   ]
  },
  {
   "cell_type": "markdown",
   "metadata": {},
   "source": [
    "I have plotted Thrust vs Max Height for a 2000 kg rocket with the 5 lines corresponding to changing launch angles. Thrust is the independent variable and thus on the x axis, while the max height is the dependent variable and thus on the y axis. Its important for anyone reading this plot to realize that the axes do not start at (0,0).\n",
    "\n",
    "As you can see, the relationship is linear, which is expected because the formula for height depends on the initial velocity and acceleration due to gravity. If we did not ignore air resistance than there would be curvature because the acceleration due to drag would not be constant throughout. The relationship between max height and thrust is also postive, which is expected because as thrust increases the launch speed increases and thus the max height. This plot also depicts the effects of launch angle. As the launch angle increases the max heights decrease more and more, seen graphically by the space between the lines increasing. This is also expected because as the launch angle increases, then the vertical component of the launch velocity decreases. \n",
    "\n",
    "Below we have another plot that further depicts the effect of changing launch angle,"
   ]
  },
  {
   "cell_type": "code",
   "execution_count": 34,
   "metadata": {},
   "outputs": [
    {
     "data": {
      "text/plain": [
       "<matplotlib.legend.Legend at 0x2c549341470>"
      ]
     },
     "execution_count": 34,
     "metadata": {},
     "output_type": "execute_result"
    },
    {
     "data": {
      "image/png": "[encoded data removed]",
      "text/plain": [
       "<Figure size 432x288 with 1 Axes>"
      ]
     },
     "metadata": {},
     "output_type": "display_data"
    }
   ],
   "source": [
    "# out of curiosity I decided to look at the change in max height due to launch angle for 3 different thrusts.\n",
    "\n",
    "max_h = np.array([max_height_0[49],max_height_11_25[49],max_height_22_5[49],max_height_33_75[49],max_height_45[49]]) #array of all the 70000N max heights for the different launch angles\n",
    "max_h_0 = np.array([max_height_0[0],max_height_11_25[0],max_height_22_5[0],max_height_33_75[0],max_height_45[0]])   #array of all the 50000N max heights for the different launch angles\n",
    "max_h_1 = np.array([max_height_0[24],max_height_11_25[24],max_height_22_5[24],max_height_33_75[24],max_height_45[24]])  #array of all the 59795.9N max heights for the different launch angles\n",
    "setup_graph(x_label='Angle [radians]', y_label='Max Height [M]', title='Change in Max Height by Angle')\n",
    "_ = plt.plot(launch_angle, max_h,'o-', label = '70000N Thrust')\n",
    "\n",
    "_ = plt.plot(launch_angle, max_h_1,'o-', label = '59795.9N Thrust')\n",
    "_ = plt.plot(launch_angle, max_h_0,'o-', label = '50000N Thrust')\n",
    "plt.legend()"
   ]
  },
  {
   "cell_type": "markdown",
   "metadata": {},
   "source": [
    "This plot has the launch angle along the x axis and the max height on the y axis. This plot more directly shows how the height decreases non-linearly as the launch angle increases. This non-linear relationship is another way to depict the increasing space between the lines in the first plot. The non-linear property is a result of the cosine function to determine the vertical component.\n",
    "\n",
    "The three different curves correspond to 3 different thrust forces. Your first thought may be that the max height at 0 launch angle should be twice that of the max height at a 45 degree launch angle (because the vertical launch speed would be halfed). This would be true if we did not include the height that the rocket travels during the fuel burn. "
   ]
  },
  {
   "cell_type": "code",
   "execution_count": 35,
   "metadata": {},
   "outputs": [
    {
     "data": {
      "text/plain": [
       "1843.1999999999991"
      ]
     },
     "execution_count": 35,
     "metadata": {},
     "output_type": "execute_result"
    }
   ],
   "source": [
    "max_h[0]"
   ]
  },
  {
   "cell_type": "code",
   "execution_count": 36,
   "metadata": {},
   "outputs": [
    {
     "data": {
      "text/plain": [
       "1382.3999999999996"
      ]
     },
     "execution_count": 36,
     "metadata": {},
     "output_type": "execute_result"
    }
   ],
   "source": [
    "max_h[4]"
   ]
  },
  {
   "cell_type": "code",
   "execution_count": 37,
   "metadata": {},
   "outputs": [
    {
     "data": {
      "text/plain": [
       "70000.0"
      ]
     },
     "execution_count": 37,
     "metadata": {},
     "output_type": "execute_result"
    }
   ],
   "source": [
    "F_thrust[49]"
   ]
  },
  {
   "cell_type": "code",
   "execution_count": null,
   "metadata": {},
   "outputs": [],
   "source": []
  }
 ],
 "metadata": {
  "kernelspec": {
   "display_name": "Python 3",
   "language": "python",
   "name": "python3"
  },
  "language_info": {
   "codemirror_mode": {
    "name": "ipython",
    "version": 3
   },
   "file_extension": ".py",
   "mimetype": "text/x-python",
   "name": "python",
   "nbconvert_exporter": "python",
   "pygments_lexer": "ipython3",
   "version": "3.6.5"
  }
 },
 "nbformat": 4,
 "nbformat_minor": 2
}
